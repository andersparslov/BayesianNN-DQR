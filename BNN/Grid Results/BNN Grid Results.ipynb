{
 "cells": [
  {
   "cell_type": "code",
   "execution_count": 13,
   "metadata": {},
   "outputs": [
    {
     "ename": "ModuleNotFoundError",
     "evalue": "No module named 'seaborn'",
     "output_type": "error",
     "traceback": [
      "\u001b[0;31m---------------------------------------------------------------------------\u001b[0m",
      "\u001b[0;31mModuleNotFoundError\u001b[0m                       Traceback (most recent call last)",
      "\u001b[0;32m<ipython-input-13-d41f9749ed26>\u001b[0m in \u001b[0;36m<module>\u001b[0;34m\u001b[0m\n\u001b[1;32m      1\u001b[0m \u001b[0;32mimport\u001b[0m \u001b[0mpandas\u001b[0m \u001b[0;32mas\u001b[0m \u001b[0mpd\u001b[0m\u001b[0;34m\u001b[0m\u001b[0;34m\u001b[0m\u001b[0m\n\u001b[1;32m      2\u001b[0m \u001b[0;32mimport\u001b[0m \u001b[0mnumpy\u001b[0m \u001b[0;32mas\u001b[0m \u001b[0mnp\u001b[0m\u001b[0;34m\u001b[0m\u001b[0;34m\u001b[0m\u001b[0m\n\u001b[0;32m----> 3\u001b[0;31m \u001b[0;32mimport\u001b[0m \u001b[0mseaborn\u001b[0m \u001b[0;32mas\u001b[0m \u001b[0msns\u001b[0m\u001b[0;34m;\u001b[0m \u001b[0msns\u001b[0m\u001b[0;34m.\u001b[0m\u001b[0mset\u001b[0m\u001b[0;34m(\u001b[0m\u001b[0;34m)\u001b[0m\u001b[0;34m\u001b[0m\u001b[0;34m\u001b[0m\u001b[0m\n\u001b[0m",
      "\u001b[0;31mModuleNotFoundError\u001b[0m: No module named 'seaborn'"
     ]
    }
   ],
   "source": [
    "import pandas as pd\n",
    "import numpy as np\n",
    "import seaborn as sns; sns.set()"
   ]
  },
  {
   "cell_type": "code",
   "execution_count": 11,
   "metadata": {},
   "outputs": [
    {
     "data": {
      "text/plain": [
       "(3, 22)"
      ]
     },
     "execution_count": 11,
     "metadata": {},
     "output_type": "execute_result"
    }
   ],
   "source": [
    "mse = np.array(pd.read_csv('GridResults/mse.csv'))[:,1:23]\n",
    "mse.shape"
   ]
  },
  {
   "cell_type": "code",
   "execution_count": 12,
   "metadata": {},
   "outputs": [
    {
     "data": {
      "text/plain": [
       "array([[47.91911199, 44.78428147, 64.31799768, 64.14870663, 73.05329984,\n",
       "        67.62689672, 67.35042984, 75.73500521, 76.47170057, 82.40450153,\n",
       "        77.63829104, 85.79961742, 82.08840289, 78.94091983, 77.65550719,\n",
       "        81.05419309, 80.81833219, 84.91322613, 83.02980276, 80.34124493,\n",
       "        83.40829961, 82.57999485],\n",
       "       [26.02522858, 25.39182576, 27.08861543, 30.33943969, 32.7703631 ,\n",
       "        32.18395003, 31.79627768, 33.10741844, 32.78255305, 34.2832219 ,\n",
       "        34.68430415, 34.46624244, 35.03136191, 33.84379767, 34.45771571,\n",
       "        30.42379059, 28.04556232, 29.32689201, 28.50177225, 27.84435496,\n",
       "        28.552738  , 27.77594964],\n",
       "       [23.91643252, 24.16961089, 24.37205016, 28.13856703, 27.50148632,\n",
       "        27.16604987, 28.17439563, 28.13381262, 26.28706558, 27.63867021,\n",
       "        27.81934551, 29.25877507, 29.54155974, 29.29880314, 27.20547197,\n",
       "        28.28099455, 29.94886849, 30.51979751, 28.80732905, 29.31690897,\n",
       "        28.55550657, 29.09600908]])"
      ]
     },
     "execution_count": 12,
     "metadata": {},
     "output_type": "execute_result"
    }
   ],
   "source": [
    "mse"
   ]
  },
  {
   "cell_type": "code",
   "execution_count": null,
   "metadata": {},
   "outputs": [],
   "source": []
  }
 ],
 "metadata": {
  "kernelspec": {
   "display_name": "Python 3",
   "language": "python",
   "name": "python3"
  },
  "language_info": {
   "codemirror_mode": {
    "name": "ipython",
    "version": 3
   },
   "file_extension": ".py",
   "mimetype": "text/x-python",
   "name": "python",
   "nbconvert_exporter": "python",
   "pygments_lexer": "ipython3",
   "version": "3.6.8"
  }
 },
 "nbformat": 4,
 "nbformat_minor": 2
}
